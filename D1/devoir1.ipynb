{
  "nbformat": 4,
  "nbformat_minor": 0,
  "metadata": {
    "colab": {
      "provenance": [],
      "toc_visible": true
    },
    "kernelspec": {
      "name": "python3",
      "display_name": "Python 3"
    },
    "language_info": {
      "name": "python"
    }
  },
  "cells": [
    {
      "cell_type": "markdown",
      "source": [
        "Imports"
      ],
      "metadata": {
        "id": "FxNHijGzMTOM"
      }
    },
    {
      "cell_type": "code",
      "execution_count": null,
      "metadata": {
        "id": "0AOYXqhRMNgF"
      },
      "outputs": [],
      "source": [
        "import numpy as np\n",
        "import matplotlib as plt\n",
        "import scipy as sp \n",
        "import pandas as pd\n",
        "\n",
        "#classification\n",
        "from sklearn.neighbors import KNeighborsClassifier #k-plus proches voisins\n",
        "\n",
        "#Partitionnement\n",
        "from sklearn.cluster import AgglomerativeClustering #Regroupement hiérarchique (Paritionnement binaire)\n",
        "#from pyclustering.cluster.kmedoids import kmedoids\n",
        "\n",
        "#réduction de dimensionnalité\n",
        "from sklearn.decomposition import KernelPCA #ce n'est pas PCoA mais on peut l'utiliser pour que le résultat soit le même\n",
        "from sklearn.manifold import Isomap"
      ]
    },
    {
      "cell_type": "markdown",
      "source": [
        "Similarity"
      ],
      "metadata": {
        "id": "DEOBf23YQjp2"
      }
    },
    {
      "cell_type": "code",
      "source": [
        "# 0, age: num\n",
        "# 1, workclass: cat\n",
        "# 2, fnlwgt: num QUE PEDO CON ESTA\n",
        "# 3, education: cat\n",
        "# 4, education-num: num\n",
        "# 5, marital-status: cat\n",
        "# 6, occupation: cat\n",
        "# 7, relationship: cat\n",
        "# 8, race: cat\n",
        "# 9, sex: cat\n",
        "# 10, capital-gain: num\n",
        "# 11, capital-loss: num\n",
        "# 12, hours-per-week: num\n",
        "# 13, native-country: cat\n",
        "# 14, class, cat\n",
        "def adult_similarity(x, y):\n",
        "  numeric_feats_x = x[0,4,10,11,12]\n",
        "  numeric_feats_y = y[0,4,10,11,12]\n",
        "  numeric_diff = numeric_feats_x - numeric_feats_y\n",
        "  \n",
        "\n",
        "  categoric_feats_x = x[1,5,6,7,8,9,13,14]\n",
        "  categoric_feats_y = y[1,5,6,7,8,9,13,14]\n",
        "\n",
        "  feat_size = categoric_feats_y.si\n",
        "\n",
        "\n",
        "  \n",
        "\n"
      ],
      "metadata": {
        "id": "2-7OPjRtQiFY"
      },
      "execution_count": null,
      "outputs": []
    },
    {
      "cell_type": "markdown",
      "source": [
        "Isomap"
      ],
      "metadata": {
        "id": "83d3xwQ8NeXa"
      }
    },
    {
      "cell_type": "code",
      "source": [
        "isomap = Isomap(n_components=1, n_neighbors=2, metric='precomputed')\n",
        "isomap_circle = isomap.fit_transform(circle_cosine_dissimilarity)\n",
        "isomap_infinity = isomap.transform(infinity_circle_cosine_dissimilarity)"
      ],
      "metadata": {
        "id": "1G8EAbrrNdht"
      },
      "execution_count": null,
      "outputs": []
    },
    {
      "cell_type": "markdown",
      "source": [
        "PCoA"
      ],
      "metadata": {
        "id": "FOWfzPAAN1vX"
      }
    },
    {
      "cell_type": "code",
      "source": [
        "pcoa = KernelPCA(n_components=1, kernel='precomputed')\n",
        "pcoa_circle = pcoa.fit_transform(-.5*circle_cosine_dissimilarity**2) #-.5*D**2 est crucial!!!\n",
        "pcoa_infinity = pcoa.transform(-.5*infinity_circle_cosine_dissimilarity**2) #-.5*D**2 est crucial!!!"
      ],
      "metadata": {
        "id": "TN_cbIC9Oaji"
      },
      "execution_count": null,
      "outputs": []
    },
    {
      "cell_type": "markdown",
      "source": [
        "K-Médoids"
      ],
      "metadata": {
        "id": "xt0VAqN8ObyA"
      }
    },
    {
      "cell_type": "code",
      "source": [
        "initial_medoids = [0,1,2]\n",
        "kmedoids_instance = kmedoids(circle_cosine_dissimilarity, initial_medoids, data_type='distance_matrix')\n",
        "kmedoids_instance.process() #training\n",
        "\n",
        "kmedoids_circle = kmedoids_instance.predict(circle_cosine_dissimilarity)\n",
        "kmedoids_infinity = kmedoids_instance.predict(infinity_circle_cosine_dissimilarity)"
      ],
      "metadata": {
        "id": "9mjjD6ejOhdO"
      },
      "execution_count": null,
      "outputs": []
    },
    {
      "cell_type": "markdown",
      "source": [
        "Partitionnement binaire"
      ],
      "metadata": {
        "id": "6M-YlxVsPK26"
      }
    },
    {
      "cell_type": "code",
      "source": [
        "def agglomerative_clustering_predict(agglomerative_clustering, dissimilarity_matrix):\n",
        "    average_dissimilarity = list()\n",
        "    for i in range(agglomerative_clustering.n_clusters):\n",
        "        ith_clusters_dissimilarity = dissimilarity_matrix[:, np.where(agglomerative_clustering.labels_==i)[0]]\n",
        "        average_dissimilarity.append(ith_clusters_dissimilarity.mean(axis=1))\n",
        "    return np.argmin(np.stack(average_dissimilarity), axis=0)\n",
        "\n",
        "agglomerative_clustering = AgglomerativeClustering(n_clusters=5, affinity='precomputed', linkage='average')\n",
        "agglomerative_clustering.fit(circle_cosine_dissimilarity)\n",
        "\n",
        "agglo_circle = agglomerative_clustering_predict(agglomerative_clustering, circle_cosine_dissimilarity)\n",
        "agglo_infinity = agglomerative_clustering_predict(agglomerative_clustering, infinity_circle_cosine_dissimilarity)"
      ],
      "metadata": {
        "id": "iOHeT-R4PRs5"
      },
      "execution_count": null,
      "outputs": []
    },
    {
      "cell_type": "markdown",
      "source": [
        "KNN"
      ],
      "metadata": {
        "id": "BMwXO9mOQVUt"
      }
    },
    {
      "cell_type": "code",
      "source": [
        "knn = KNeighborsClassifier(n_neighbors=2, metric='precomputed', algorithm='brute')\n",
        "knn.fit(circle_cosine_dissimilarity, quadrants)\n",
        "\n",
        "knn_circle = knn.predict(circle_cosine_dissimilarity)\n",
        "knn_infinity = knn.predict(infinity_circle_cosine_dissimilarity)"
      ],
      "metadata": {
        "id": "dI5s20YmQdgK"
      },
      "execution_count": null,
      "outputs": []
    }
  ]
}