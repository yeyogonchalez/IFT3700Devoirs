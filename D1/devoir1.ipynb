{
  "cells": [
    {
      "cell_type": "markdown",
      "metadata": {
        "id": "FxNHijGzMTOM"
      },
      "source": [
        "Imports"
      ]
    },
    {
      "cell_type": "code",
      "execution_count": 9,
      "metadata": {},
      "outputs": [],
      "source": [
        "import numpy as np\n",
        "import matplotlib as plt\n",
        "import scipy as sp \n",
        "import pandas as pd\n",
        "\n",
        "#classification\n",
        "from sklearn.neighbors import KNeighborsClassifier #k-plus proches voisins\n",
        "\n",
        "#Partitionnement\n",
        "from sklearn.cluster import AgglomerativeClustering #Regroupement hiérarchique (Paritionnement binaire)\n",
        "#from pyclustering.cluster.kmedoids import kmedoids\n",
        "\n",
        "#réduction de dimensionnalité\n",
        "from sklearn.decomposition import KernelPCA #ce n'est pas PCoA mais on peut l'utiliser pour que le résultat soit le même\n",
        "from sklearn.manifold import Isomap"
      ]
    },
    {
      "cell_type": "markdown",
      "metadata": {
        "id": "FxNHijGzMTOM"
      },
      "source": [
        "DataSet Download and Cleanup"
      ]
    },
    {
      "cell_type": "code",
      "execution_count": null,
      "metadata": {},
      "outputs": [],
      "source": [
        "#--------------------------------ADULT--------------------------------#\n",
        "\n",
        "class DataParser:\n",
        "  def __init__(self):\n",
        "    data_features_db = pd.read_csv('adult.csv').to_numpy()\n",
        "    self.data_features = np.delete(data_features_db,0,0)\n",
        "\n",
        "  def splitData(self):\n",
        "    features = self.data_features\n",
        "    size = len(features)\n",
        "\n",
        "    training_features = []\n",
        "    test_features = []\n",
        "\n",
        "\n",
        "    for i in range(size):\n",
        "      if i%5==1:\n",
        "        test_features.append(features[i])\n",
        "  \n",
        "      else:\n",
        "        training_features.append(features[i])\n",
        "\n",
        "    \n",
        "\n",
        "    training_x = np.array(training_features)\n",
        "    test_x = np.array(test_features)\n",
        "\n",
        "    return (training_x, test_x)\n"
      ]
    },
    {
      "cell_type": "markdown",
      "metadata": {
        "id": "DEOBf23YQjp2"
      },
      "source": [
        "Similarity"
      ]
    },
    {
      "cell_type": "code",
      "execution_count": 7,
      "metadata": {
        "id": "2-7OPjRtQiFY"
      },
      "outputs": [],
      "source": [
        "#--------------------------------ADULT--------------------------------#\n",
        "# 0, age: num\n",
        "# 1, workclass: cat\n",
        "# 2, fnlwgt: num QUE PEDO CON ESTA\n",
        "# 3, education: cat\n",
        "# 4, education-num: num\n",
        "# 5, marital-status: cat\n",
        "# 6, occupation: cat\n",
        "# 7, relationship: cat\n",
        "# 8, race: cat\n",
        "# 9, sex: cat\n",
        "# 10, capital-gain: num\n",
        "# 11, capital-loss: num\n",
        "# 12, hours-per-week: num\n",
        "# 13, native-country: cat\n",
        "# 14, class, cat\n",
        "def adult_dissimilarity(x, y, num_avg_dist):\n",
        "  numeric_feats_x = x[0,4,10,11,12]\n",
        "  numeric_feats_y = y[0,4,10,11,12]\n",
        "  #distance euclidienne sur features numériques\n",
        "  num_dissimilarity = np.linalg.norm(numeric_feats_x - numeric_feats_y)\n",
        "  #estimation du poids pour les features catégoriques\n",
        "  individual_wgt = num_avg_dist/5.0\n",
        "\n",
        "  \n",
        "\n",
        "  categoric_feats_x = x[1,5,6,7,8,9,13,14]\n",
        "  categoric_feats_y = y[1,5,6,7,8,9,13,14]\n",
        "  cat_dissimilarity = 0\n",
        "  for i in range (len(categoric_feats_x)):\n",
        "    if categoric_feats_x == categoric_feats_y:\n",
        "      cat_dissimilarity += individual_wgt\n",
        "  return num_dissimilarity + cat_dissimilarity\n",
        "    \n",
        "\n",
        "def adult_dissimilarity_matrix(X,Y):\n",
        "  return adult_dissimilarity(X[:,:], Y[:,:])\n",
        "\n",
        "#--------------------------------MNIST--------------------------------#\n",
        "\n",
        "  \n",
        "\n",
        "\n",
        "  \n",
        "\n"
      ]
    },
    {
      "cell_type": "markdown",
      "metadata": {
        "id": "83d3xwQ8NeXa"
      },
      "source": [
        "Isomap"
      ]
    },
    {
      "cell_type": "code",
      "execution_count": null,
      "metadata": {
        "id": "1G8EAbrrNdht"
      },
      "outputs": [],
      "source": [
        "isomap = Isomap(n_components=1, n_neighbors=2, metric='precomputed')\n",
        "isomap_circle = isomap.fit_transform(circle_cosine_dissimilarity)\n",
        "isomap_infinity = isomap.transform(infinity_circle_cosine_dissimilarity)"
      ]
    },
    {
      "cell_type": "markdown",
      "metadata": {
        "id": "FOWfzPAAN1vX"
      },
      "source": [
        "PCoA"
      ]
    },
    {
      "cell_type": "code",
      "execution_count": null,
      "metadata": {
        "id": "TN_cbIC9Oaji"
      },
      "outputs": [],
      "source": [
        "pcoa = KernelPCA(n_components=1, kernel='precomputed')\n",
        "pcoa_circle = pcoa.fit_transform(-.5*circle_cosine_dissimilarity**2) #-.5*D**2 est crucial!!!\n",
        "pcoa_infinity = pcoa.transform(-.5*infinity_circle_cosine_dissimilarity**2) #-.5*D**2 est crucial!!!"
      ]
    },
    {
      "cell_type": "markdown",
      "metadata": {
        "id": "xt0VAqN8ObyA"
      },
      "source": [
        "K-Médoids"
      ]
    },
    {
      "cell_type": "code",
      "execution_count": null,
      "metadata": {
        "id": "9mjjD6ejOhdO"
      },
      "outputs": [],
      "source": [
        "initial_medoids = [0,1,2]\n",
        "kmedoids_instance = kmedoids(circle_cosine_dissimilarity, initial_medoids, data_type='distance_matrix')\n",
        "kmedoids_instance.process() #training\n",
        "\n",
        "kmedoids_circle = kmedoids_instance.predict(circle_cosine_dissimilarity)\n",
        "kmedoids_infinity = kmedoids_instance.predict(infinity_circle_cosine_dissimilarity)"
      ]
    },
    {
      "cell_type": "markdown",
      "metadata": {
        "id": "6M-YlxVsPK26"
      },
      "source": [
        "Partitionnement binaire"
      ]
    },
    {
      "cell_type": "code",
      "execution_count": null,
      "metadata": {
        "id": "iOHeT-R4PRs5"
      },
      "outputs": [],
      "source": [
        "def agglomerative_clustering_predict(agglomerative_clustering, dissimilarity_matrix):\n",
        "    average_dissimilarity = list()\n",
        "    for i in range(agglomerative_clustering.n_clusters):\n",
        "        ith_clusters_dissimilarity = dissimilarity_matrix[:, np.where(agglomerative_clustering.labels_==i)[0]]\n",
        "        average_dissimilarity.append(ith_clusters_dissimilarity.mean(axis=1))\n",
        "    return np.argmin(np.stack(average_dissimilarity), axis=0)\n",
        "\n",
        "agglomerative_clustering = AgglomerativeClustering(n_clusters=5, affinity='precomputed', linkage='average')\n",
        "agglomerative_clustering.fit(circle_cosine_dissimilarity)\n",
        "\n",
        "agglo_circle = agglomerative_clustering_predict(agglomerative_clustering, circle_cosine_dissimilarity)\n",
        "agglo_infinity = agglomerative_clustering_predict(agglomerative_clustering, infinity_circle_cosine_dissimilarity)"
      ]
    },
    {
      "cell_type": "markdown",
      "metadata": {
        "id": "BMwXO9mOQVUt"
      },
      "source": [
        "KNN"
      ]
    },
    {
      "cell_type": "code",
      "execution_count": null,
      "metadata": {
        "id": "dI5s20YmQdgK"
      },
      "outputs": [],
      "source": [
        "knn = KNeighborsClassifier(n_neighbors=2, metric='precomputed', algorithm='brute')\n",
        "knn.fit(circle_cosine_dissimilarity, quadrants)\n",
        "\n",
        "knn_circle = knn.predict(circle_cosine_dissimilarity)\n",
        "knn_infinity = knn.predict(infinity_circle_cosine_dissimilarity)"
      ]
    }
  ],
  "metadata": {
    "colab": {
      "provenance": [],
      "toc_visible": true
    },
    "kernelspec": {
      "display_name": "Python 3.9.12 ('base')",
      "language": "python",
      "name": "python3"
    },
    "language_info": {
      "codemirror_mode": {
        "name": "ipython",
        "version": 3
      },
      "file_extension": ".py",
      "mimetype": "text/x-python",
      "name": "python",
      "nbconvert_exporter": "python",
      "pygments_lexer": "ipython3",
      "version": "3.9.12"
    },
    "vscode": {
      "interpreter": {
        "hash": "ad2bdc8ecc057115af97d19610ffacc2b4e99fae6737bb82f5d7fb13d2f2c186"
      }
    }
  },
  "nbformat": 4,
  "nbformat_minor": 0
}
